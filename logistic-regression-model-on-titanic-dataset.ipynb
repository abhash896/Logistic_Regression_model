{
 "cells": [
  {
   "cell_type": "code",
   "execution_count": 1,
   "id": "f13ac7bb",
   "metadata": {
    "_cell_guid": "b1076dfc-b9ad-4769-8c92-a6c4dae69d19",
    "_uuid": "8f2839f25d086af736a60e9eeb907d3b93b6e0e5",
    "execution": {
     "iopub.execute_input": "2021-08-11T13:20:21.579439Z",
     "iopub.status.busy": "2021-08-11T13:20:21.578684Z",
     "iopub.status.idle": "2021-08-11T13:20:21.585703Z",
     "shell.execute_reply": "2021-08-11T13:20:21.586363Z",
     "shell.execute_reply.started": "2021-08-11T13:19:50.457805Z"
    },
    "papermill": {
     "duration": 0.063493,
     "end_time": "2021-08-11T13:20:21.586678",
     "exception": false,
     "start_time": "2021-08-11T13:20:21.523185",
     "status": "completed"
    },
    "tags": []
   },
   "outputs": [
    {
     "name": "stdout",
     "output_type": "stream",
     "text": [
      "/kaggle/input/titanic/train.csv\n",
      "/kaggle/input/titanic/test.csv\n",
      "/kaggle/input/titanic/gender_submission.csv\n"
     ]
    }
   ],
   "source": [
    "# This Python 3 environment comes with many helpful analytics libraries installed\n",
    "# It is defined by the kaggle/python Docker image: https://github.com/kaggle/docker-python\n",
    "# For example, here's several helpful packages to load\n",
    "\n",
    "import numpy as np # linear algebra\n",
    "import pandas as pd # data processing, CSV file I/O (e.g. pd.read_csv)\n",
    "\n",
    "# Input data files are available in the read-only \"../input/\" directory\n",
    "# For example, running this (by clicking run or pressing Shift+Enter) will list all files under the input directory\n",
    "\n",
    "import os\n",
    "for dirname, _, filenames in os.walk('/kaggle/input'):\n",
    "    for filename in filenames:\n",
    "        print(os.path.join(dirname, filename))\n",
    "\n",
    "# You can write up to 20GB to the current directory (/kaggle/working/) that gets preserved as output when you create a version using \"Save & Run All\" \n",
    "# You can also write temporary files to /kaggle/temp/, but they won't be saved outside of the current session"
   ]
  },
  {
   "cell_type": "markdown",
   "id": "bc4c08f9",
   "metadata": {
    "papermill": {
     "duration": 0.043036,
     "end_time": "2021-08-11T13:20:21.670220",
     "exception": false,
     "start_time": "2021-08-11T13:20:21.627184",
     "status": "completed"
    },
    "tags": []
   },
   "source": [
    "Importing the dataset into our notebook."
   ]
  },
  {
   "cell_type": "code",
   "execution_count": 2,
   "id": "91c0dde7",
   "metadata": {
    "execution": {
     "iopub.execute_input": "2021-08-11T13:20:21.773592Z",
     "iopub.status.busy": "2021-08-11T13:20:21.772823Z",
     "iopub.status.idle": "2021-08-11T13:20:21.885547Z",
     "shell.execute_reply": "2021-08-11T13:20:21.884946Z",
     "shell.execute_reply.started": "2021-08-11T13:19:50.469739Z"
    },
    "papermill": {
     "duration": 0.170331,
     "end_time": "2021-08-11T13:20:21.885690",
     "exception": false,
     "start_time": "2021-08-11T13:20:21.715359",
     "status": "completed"
    },
    "tags": []
   },
   "outputs": [],
   "source": [
    "training_data = pd.read_csv(\"../input/titanic/train.csv\")"
   ]
  },
  {
   "cell_type": "code",
   "execution_count": 3,
   "id": "557fed44",
   "metadata": {
    "execution": {
     "iopub.execute_input": "2021-08-11T13:20:21.978459Z",
     "iopub.status.busy": "2021-08-11T13:20:21.977419Z",
     "iopub.status.idle": "2021-08-11T13:20:22.003627Z",
     "shell.execute_reply": "2021-08-11T13:20:22.002989Z",
     "shell.execute_reply.started": "2021-08-11T13:19:50.491497Z"
    },
    "papermill": {
     "duration": 0.078176,
     "end_time": "2021-08-11T13:20:22.003774",
     "exception": false,
     "start_time": "2021-08-11T13:20:21.925598",
     "status": "completed"
    },
    "tags": []
   },
   "outputs": [
    {
     "data": {
      "text/html": [
       "<div>\n",
       "<style scoped>\n",
       "    .dataframe tbody tr th:only-of-type {\n",
       "        vertical-align: middle;\n",
       "    }\n",
       "\n",
       "    .dataframe tbody tr th {\n",
       "        vertical-align: top;\n",
       "    }\n",
       "\n",
       "    .dataframe thead th {\n",
       "        text-align: right;\n",
       "    }\n",
       "</style>\n",
       "<table border=\"1\" class=\"dataframe\">\n",
       "  <thead>\n",
       "    <tr style=\"text-align: right;\">\n",
       "      <th></th>\n",
       "      <th>PassengerId</th>\n",
       "      <th>Survived</th>\n",
       "      <th>Pclass</th>\n",
       "      <th>Name</th>\n",
       "      <th>Sex</th>\n",
       "      <th>Age</th>\n",
       "      <th>SibSp</th>\n",
       "      <th>Parch</th>\n",
       "      <th>Ticket</th>\n",
       "      <th>Fare</th>\n",
       "      <th>Cabin</th>\n",
       "      <th>Embarked</th>\n",
       "    </tr>\n",
       "  </thead>\n",
       "  <tbody>\n",
       "    <tr>\n",
       "      <th>0</th>\n",
       "      <td>1</td>\n",
       "      <td>0</td>\n",
       "      <td>3</td>\n",
       "      <td>Braund, Mr. Owen Harris</td>\n",
       "      <td>male</td>\n",
       "      <td>22.0</td>\n",
       "      <td>1</td>\n",
       "      <td>0</td>\n",
       "      <td>A/5 21171</td>\n",
       "      <td>7.2500</td>\n",
       "      <td>NaN</td>\n",
       "      <td>S</td>\n",
       "    </tr>\n",
       "    <tr>\n",
       "      <th>1</th>\n",
       "      <td>2</td>\n",
       "      <td>1</td>\n",
       "      <td>1</td>\n",
       "      <td>Cumings, Mrs. John Bradley (Florence Briggs Th...</td>\n",
       "      <td>female</td>\n",
       "      <td>38.0</td>\n",
       "      <td>1</td>\n",
       "      <td>0</td>\n",
       "      <td>PC 17599</td>\n",
       "      <td>71.2833</td>\n",
       "      <td>C85</td>\n",
       "      <td>C</td>\n",
       "    </tr>\n",
       "    <tr>\n",
       "      <th>2</th>\n",
       "      <td>3</td>\n",
       "      <td>1</td>\n",
       "      <td>3</td>\n",
       "      <td>Heikkinen, Miss. Laina</td>\n",
       "      <td>female</td>\n",
       "      <td>26.0</td>\n",
       "      <td>0</td>\n",
       "      <td>0</td>\n",
       "      <td>STON/O2. 3101282</td>\n",
       "      <td>7.9250</td>\n",
       "      <td>NaN</td>\n",
       "      <td>S</td>\n",
       "    </tr>\n",
       "    <tr>\n",
       "      <th>3</th>\n",
       "      <td>4</td>\n",
       "      <td>1</td>\n",
       "      <td>1</td>\n",
       "      <td>Futrelle, Mrs. Jacques Heath (Lily May Peel)</td>\n",
       "      <td>female</td>\n",
       "      <td>35.0</td>\n",
       "      <td>1</td>\n",
       "      <td>0</td>\n",
       "      <td>113803</td>\n",
       "      <td>53.1000</td>\n",
       "      <td>C123</td>\n",
       "      <td>S</td>\n",
       "    </tr>\n",
       "    <tr>\n",
       "      <th>4</th>\n",
       "      <td>5</td>\n",
       "      <td>0</td>\n",
       "      <td>3</td>\n",
       "      <td>Allen, Mr. William Henry</td>\n",
       "      <td>male</td>\n",
       "      <td>35.0</td>\n",
       "      <td>0</td>\n",
       "      <td>0</td>\n",
       "      <td>373450</td>\n",
       "      <td>8.0500</td>\n",
       "      <td>NaN</td>\n",
       "      <td>S</td>\n",
       "    </tr>\n",
       "  </tbody>\n",
       "</table>\n",
       "</div>"
      ],
      "text/plain": [
       "   PassengerId  Survived  Pclass  \\\n",
       "0            1         0       3   \n",
       "1            2         1       1   \n",
       "2            3         1       3   \n",
       "3            4         1       1   \n",
       "4            5         0       3   \n",
       "\n",
       "                                                Name     Sex   Age  SibSp  \\\n",
       "0                            Braund, Mr. Owen Harris    male  22.0      1   \n",
       "1  Cumings, Mrs. John Bradley (Florence Briggs Th...  female  38.0      1   \n",
       "2                             Heikkinen, Miss. Laina  female  26.0      0   \n",
       "3       Futrelle, Mrs. Jacques Heath (Lily May Peel)  female  35.0      1   \n",
       "4                           Allen, Mr. William Henry    male  35.0      0   \n",
       "\n",
       "   Parch            Ticket     Fare Cabin Embarked  \n",
       "0      0         A/5 21171   7.2500   NaN        S  \n",
       "1      0          PC 17599  71.2833   C85        C  \n",
       "2      0  STON/O2. 3101282   7.9250   NaN        S  \n",
       "3      0            113803  53.1000  C123        S  \n",
       "4      0            373450   8.0500   NaN        S  "
      ]
     },
     "execution_count": 3,
     "metadata": {},
     "output_type": "execute_result"
    }
   ],
   "source": [
    "training_data.head()"
   ]
  },
  {
   "cell_type": "code",
   "execution_count": 4,
   "id": "ad54955e",
   "metadata": {
    "execution": {
     "iopub.execute_input": "2021-08-11T13:20:22.090060Z",
     "iopub.status.busy": "2021-08-11T13:20:22.089313Z",
     "iopub.status.idle": "2021-08-11T13:20:22.093955Z",
     "shell.execute_reply": "2021-08-11T13:20:22.093026Z",
     "shell.execute_reply.started": "2021-08-11T13:19:50.511637Z"
    },
    "papermill": {
     "duration": 0.050056,
     "end_time": "2021-08-11T13:20:22.094156",
     "exception": false,
     "start_time": "2021-08-11T13:20:22.044100",
     "status": "completed"
    },
    "tags": []
   },
   "outputs": [
    {
     "name": "stdout",
     "output_type": "stream",
     "text": [
      "Number of passengers in the training dataset : 891\n"
     ]
    }
   ],
   "source": [
    "print('Number of passengers in the training dataset : ' + str(len(training_data)))"
   ]
  },
  {
   "cell_type": "markdown",
   "id": "9b374d0c",
   "metadata": {
    "papermill": {
     "duration": 0.039907,
     "end_time": "2021-08-11T13:20:22.175007",
     "exception": false,
     "start_time": "2021-08-11T13:20:22.135100",
     "status": "completed"
    },
    "tags": []
   },
   "source": [
    "# Performing Exploratory Data Analysis on the dataset."
   ]
  },
  {
   "cell_type": "code",
   "execution_count": 5,
   "id": "addaad3d",
   "metadata": {
    "execution": {
     "iopub.execute_input": "2021-08-11T13:20:22.260228Z",
     "iopub.status.busy": "2021-08-11T13:20:22.259493Z",
     "iopub.status.idle": "2021-08-11T13:20:23.282230Z",
     "shell.execute_reply": "2021-08-11T13:20:23.281550Z",
     "shell.execute_reply.started": "2021-08-11T13:19:50.523340Z"
    },
    "papermill": {
     "duration": 1.067471,
     "end_time": "2021-08-11T13:20:23.282386",
     "exception": false,
     "start_time": "2021-08-11T13:20:22.214915",
     "status": "completed"
    },
    "tags": []
   },
   "outputs": [],
   "source": [
    "import matplotlib.pyplot as plt\n",
    "import seaborn as sns"
   ]
  },
  {
   "cell_type": "code",
   "execution_count": 6,
   "id": "395b31f7",
   "metadata": {
    "execution": {
     "iopub.execute_input": "2021-08-11T13:20:23.381585Z",
     "iopub.status.busy": "2021-08-11T13:20:23.379697Z",
     "iopub.status.idle": "2021-08-11T13:20:23.597912Z",
     "shell.execute_reply": "2021-08-11T13:20:23.598490Z",
     "shell.execute_reply.started": "2021-08-11T13:19:50.540930Z"
    },
    "papermill": {
     "duration": 0.273873,
     "end_time": "2021-08-11T13:20:23.598697",
     "exception": false,
     "start_time": "2021-08-11T13:20:23.324824",
     "status": "completed"
    },
    "tags": []
   },
   "outputs": [
    {
     "data": {
      "text/plain": [
       "Text(0.5, 1.0, 'Graph showing Number of passengers vs Survived')"
      ]
     },
     "execution_count": 6,
     "metadata": {},
     "output_type": "execute_result"
    },
    {
     "data": {
      "image/png": "[encoded data removed]",
      "text/plain": [
       "<Figure size 720x360 with 1 Axes>"
      ]
     },
     "metadata": {
      "needs_background": "light"
     },
     "output_type": "display_data"
    }
   ],
   "source": [
    "plt.figure(figsize=(10,5))\n",
    "sns.set_theme(style=\"darkgrid\")\n",
    "sns.countplot(x='Survived', data = training_data)\n",
    "plt.xlabel('Survived (0 means not survived and 1 means survived)', fontsize=20)\n",
    "plt.ylabel('Count', fontsize=20)\n",
    "\n",
    "plt.title('Graph showing Number of passengers vs Survived', fontsize = 20)"
   ]
  },
  {
   "cell_type": "code",
   "execution_count": 7,
   "id": "572a1c62",
   "metadata": {
    "execution": {
     "iopub.execute_input": "2021-08-11T13:20:23.696308Z",
     "iopub.status.busy": "2021-08-11T13:20:23.694225Z",
     "iopub.status.idle": "2021-08-11T13:20:23.893403Z",
     "shell.execute_reply": "2021-08-11T13:20:23.893984Z",
     "shell.execute_reply.started": "2021-08-11T13:19:50.730032Z"
    },
    "papermill": {
     "duration": 0.25152,
     "end_time": "2021-08-11T13:20:23.894173",
     "exception": false,
     "start_time": "2021-08-11T13:20:23.642653",
     "status": "completed"
    },
    "tags": []
   },
   "outputs": [
    {
     "data": {
      "text/plain": [
       "Text(0.5, 1.0, 'Graph showing Survival based on sex')"
      ]
     },
     "execution_count": 7,
     "metadata": {},
     "output_type": "execute_result"
    },
    {
     "data": {
      "image/png": "[encoded data removed]",
      "text/plain": [
       "<Figure size 720x360 with 1 Axes>"
      ]
     },
     "metadata": {},
     "output_type": "display_data"
    }
   ],
   "source": [
    "plt.figure(figsize=(10,5))\n",
    "sns.countplot(x= 'Survived', hue = 'Sex', data = training_data)\n",
    "plt.xlabel('Survived', fontsize=20)\n",
    "plt.ylabel('Count', fontsize=20)\n",
    "plt.title('Graph showing Survival based on sex', fontsize = 20)"
   ]
  },
  {
   "cell_type": "code",
   "execution_count": 8,
   "id": "958ec3e4",
   "metadata": {
    "execution": {
     "iopub.execute_input": "2021-08-11T13:20:23.994825Z",
     "iopub.status.busy": "2021-08-11T13:20:23.994086Z",
     "iopub.status.idle": "2021-08-11T13:20:24.245983Z",
     "shell.execute_reply": "2021-08-11T13:20:24.246494Z",
     "shell.execute_reply.started": "2021-08-11T13:19:50.923592Z"
    },
    "papermill": {
     "duration": 0.307428,
     "end_time": "2021-08-11T13:20:24.246760",
     "exception": false,
     "start_time": "2021-08-11T13:20:23.939332",
     "status": "completed"
    },
    "tags": []
   },
   "outputs": [
    {
     "data": {
      "text/plain": [
       "Text(0.5, 1.0, 'Graph showing Survival based on Passenger class')"
      ]
     },
     "execution_count": 8,
     "metadata": {},
     "output_type": "execute_result"
    },
    {
     "data": {
      "image/png": "[encoded data removed]",
      "text/plain": [
       "<Figure size 720x360 with 1 Axes>"
      ]
     },
     "metadata": {},
     "output_type": "display_data"
    }
   ],
   "source": [
    "plt.figure(figsize=(10,5))\n",
    "sns.countplot(x= 'Survived', hue = 'Pclass', data = training_data)\n",
    "plt.xlabel('Survived', fontsize=20)\n",
    "plt.ylabel('Count', fontsize=20)\n",
    "plt.title('Graph showing Survival based on Passenger class', fontsize = 20)"
   ]
  },
  {
   "cell_type": "code",
   "execution_count": 9,
   "id": "8a266de5",
   "metadata": {
    "execution": {
     "iopub.execute_input": "2021-08-11T13:20:24.341637Z",
     "iopub.status.busy": "2021-08-11T13:20:24.340934Z",
     "iopub.status.idle": "2021-08-11T13:20:24.663609Z",
     "shell.execute_reply": "2021-08-11T13:20:24.664142Z",
     "shell.execute_reply.started": "2021-08-11T13:19:51.148759Z"
    },
    "papermill": {
     "duration": 0.370595,
     "end_time": "2021-08-11T13:20:24.664364",
     "exception": false,
     "start_time": "2021-08-11T13:20:24.293769",
     "status": "completed"
    },
    "tags": []
   },
   "outputs": [
    {
     "data": {
      "text/plain": [
       "Text(0.5, 1.0, 'Distribution of Age in the training dataset')"
      ]
     },
     "execution_count": 9,
     "metadata": {},
     "output_type": "execute_result"
    },
    {
     "data": {
      "image/png": "[encoded data removed]",
      "text/plain": [
       "<Figure size 720x360 with 1 Axes>"
      ]
     },
     "metadata": {},
     "output_type": "display_data"
    }
   ],
   "source": [
    "plt.figure(figsize=(10,5))\n",
    "sns.histplot(data = training_data.Age, color = 'seagreen')\n",
    "plt.xlabel('Age', fontsize=20)\n",
    "plt.ylabel('Count', fontsize=20)\n",
    "plt.title('Distribution of Age in the training dataset', fontsize = 20)"
   ]
  },
  {
   "cell_type": "code",
   "execution_count": 10,
   "id": "232797c9",
   "metadata": {
    "execution": {
     "iopub.execute_input": "2021-08-11T13:20:24.758204Z",
     "iopub.status.busy": "2021-08-11T13:20:24.757505Z",
     "iopub.status.idle": "2021-08-11T13:20:25.001867Z",
     "shell.execute_reply": "2021-08-11T13:20:25.001059Z",
     "shell.execute_reply.started": "2021-08-11T13:19:51.721290Z"
    },
    "papermill": {
     "duration": 0.292504,
     "end_time": "2021-08-11T13:20:25.002042",
     "exception": false,
     "start_time": "2021-08-11T13:20:24.709538",
     "status": "completed"
    },
    "tags": []
   },
   "outputs": [
    {
     "data": {
      "text/plain": [
       "Text(0.5, 1.0, 'Graph showing siblings or spouses vs count distribution')"
      ]
     },
     "execution_count": 10,
     "metadata": {},
     "output_type": "execute_result"
    },
    {
     "data": {
      "image/png": "[encoded data removed]",
      "text/plain": [
       "<Figure size 720x360 with 1 Axes>"
      ]
     },
     "metadata": {},
     "output_type": "display_data"
    }
   ],
   "source": [
    "plt.figure(figsize=(10,5))\n",
    "sns.countplot(x= 'SibSp', data = training_data)\n",
    "plt.xlabel('Number of siblings / spouses aboard the Titanic', fontsize=20)\n",
    "plt.ylabel('Count', fontsize=20)\n",
    "plt.title('Graph showing siblings or spouses vs count distribution', fontsize = 20)"
   ]
  },
  {
   "cell_type": "code",
   "execution_count": 11,
   "id": "ece1eb4c",
   "metadata": {
    "execution": {
     "iopub.execute_input": "2021-08-11T13:20:25.107307Z",
     "iopub.status.busy": "2021-08-11T13:20:25.106182Z",
     "iopub.status.idle": "2021-08-11T13:20:25.351869Z",
     "shell.execute_reply": "2021-08-11T13:20:25.351171Z",
     "shell.execute_reply.started": "2021-08-11T13:19:51.957925Z"
    },
    "papermill": {
     "duration": 0.302456,
     "end_time": "2021-08-11T13:20:25.352025",
     "exception": false,
     "start_time": "2021-08-11T13:20:25.049569",
     "status": "completed"
    },
    "tags": []
   },
   "outputs": [
    {
     "data": {
      "text/plain": [
       "Text(0.5, 1.0, 'Graph showing distribution of parents or children vs count')"
      ]
     },
     "execution_count": 11,
     "metadata": {},
     "output_type": "execute_result"
    },
    {
     "data": {
      "image/png": "[encoded data removed]",
      "text/plain": [
       "<Figure size 720x360 with 1 Axes>"
      ]
     },
     "metadata": {},
     "output_type": "display_data"
    }
   ],
   "source": [
    "plt.figure(figsize=(10,5))\n",
    "sns.countplot(x= 'Parch', data = training_data)\n",
    "plt.xlabel('Number of parents / children aboard the Titanic', fontsize=20)\n",
    "plt.ylabel('Count', fontsize=20)\n",
    "plt.title('Graph showing distribution of parents or children vs count', fontsize = 20)"
   ]
  },
  {
   "cell_type": "code",
   "execution_count": 12,
   "id": "3a9b02dd",
   "metadata": {
    "execution": {
     "iopub.execute_input": "2021-08-11T13:20:25.456667Z",
     "iopub.status.busy": "2021-08-11T13:20:25.455645Z",
     "iopub.status.idle": "2021-08-11T13:20:25.673121Z",
     "shell.execute_reply": "2021-08-11T13:20:25.672509Z",
     "shell.execute_reply.started": "2021-08-11T13:19:52.203257Z"
    },
    "papermill": {
     "duration": 0.273119,
     "end_time": "2021-08-11T13:20:25.673271",
     "exception": false,
     "start_time": "2021-08-11T13:20:25.400152",
     "status": "completed"
    },
    "tags": []
   },
   "outputs": [
    {
     "data": {
      "text/plain": [
       "Text(0, 0.5, 'Age')"
      ]
     },
     "execution_count": 12,
     "metadata": {},
     "output_type": "execute_result"
    },
    {
     "data": {
      "image/png": "[encoded data removed]",
      "text/plain": [
       "<Figure size 720x360 with 1 Axes>"
      ]
     },
     "metadata": {},
     "output_type": "display_data"
    }
   ],
   "source": [
    "plt.figure(figsize=(10,5))\n",
    "sns.boxplot(x = 'Pclass', y = 'Age', data = training_data)\n",
    "plt.xlabel('Pclass', fontsize=20)\n",
    "plt.ylabel('Age', fontsize=20)"
   ]
  },
  {
   "cell_type": "code",
   "execution_count": 13,
   "id": "b9631c82",
   "metadata": {
    "execution": {
     "iopub.execute_input": "2021-08-11T13:20:25.779208Z",
     "iopub.status.busy": "2021-08-11T13:20:25.778180Z",
     "iopub.status.idle": "2021-08-11T13:20:25.782829Z",
     "shell.execute_reply": "2021-08-11T13:20:25.782188Z",
     "shell.execute_reply.started": "2021-08-11T13:19:52.420863Z"
    },
    "papermill": {
     "duration": 0.059801,
     "end_time": "2021-08-11T13:20:25.782979",
     "exception": false,
     "start_time": "2021-08-11T13:20:25.723178",
     "status": "completed"
    },
    "tags": []
   },
   "outputs": [
    {
     "data": {
      "text/plain": [
       "Index(['PassengerId', 'Survived', 'Pclass', 'Name', 'Sex', 'Age', 'SibSp',\n",
       "       'Parch', 'Ticket', 'Fare', 'Cabin', 'Embarked'],\n",
       "      dtype='object')"
      ]
     },
     "execution_count": 13,
     "metadata": {},
     "output_type": "execute_result"
    }
   ],
   "source": [
    "training_data.columns"
   ]
  },
  {
   "cell_type": "markdown",
   "id": "8d3644f1",
   "metadata": {
    "papermill": {
     "duration": 0.049464,
     "end_time": "2021-08-11T13:20:25.883223",
     "exception": false,
     "start_time": "2021-08-11T13:20:25.833759",
     "status": "completed"
    },
    "tags": []
   },
   "source": [
    "## Let's perform data munging otherwise known as data wrangling on our dataset"
   ]
  },
  {
   "cell_type": "code",
   "execution_count": 14,
   "id": "87cceecf",
   "metadata": {
    "execution": {
     "iopub.execute_input": "2021-08-11T13:20:26.140016Z",
     "iopub.status.busy": "2021-08-11T13:20:26.123450Z",
     "iopub.status.idle": "2021-08-11T13:20:26.475859Z",
     "shell.execute_reply": "2021-08-11T13:20:26.474677Z",
     "shell.execute_reply.started": "2021-08-11T13:19:52.430132Z"
    },
    "papermill": {
     "duration": 0.543008,
     "end_time": "2021-08-11T13:20:26.476035",
     "exception": false,
     "start_time": "2021-08-11T13:20:25.933027",
     "status": "completed"
    },
    "tags": []
   },
   "outputs": [
    {
     "data": {
      "text/plain": [
       "<AxesSubplot:>"
      ]
     },
     "execution_count": 14,
     "metadata": {},
     "output_type": "execute_result"
    },
    {
     "data": {
      "image/png": "[encoded data removed]",
      "text/plain": [
       "<Figure size 720x360 with 2 Axes>"
      ]
     },
     "metadata": {},
     "output_type": "display_data"
    }
   ],
   "source": [
    "plt.figure(figsize=(10,5))\n",
    "sns.heatmap(training_data.isnull(), yticklabels = False)"
   ]
  },
  {
   "cell_type": "code",
   "execution_count": 15,
   "id": "ccaaa42b",
   "metadata": {
    "execution": {
     "iopub.execute_input": "2021-08-11T13:20:26.589420Z",
     "iopub.status.busy": "2021-08-11T13:20:26.585855Z",
     "iopub.status.idle": "2021-08-11T13:20:26.593353Z",
     "shell.execute_reply": "2021-08-11T13:20:26.593983Z",
     "shell.execute_reply.started": "2021-08-11T13:19:52.777647Z"
    },
    "papermill": {
     "duration": 0.06662,
     "end_time": "2021-08-11T13:20:26.594169",
     "exception": false,
     "start_time": "2021-08-11T13:20:26.527549",
     "status": "completed"
    },
    "tags": []
   },
   "outputs": [
    {
     "data": {
      "text/plain": [
       "PassengerId      0\n",
       "Survived         0\n",
       "Pclass           0\n",
       "Name             0\n",
       "Sex              0\n",
       "Age            177\n",
       "SibSp            0\n",
       "Parch            0\n",
       "Ticket           0\n",
       "Fare             0\n",
       "Cabin          687\n",
       "Embarked         2\n",
       "dtype: int64"
      ]
     },
     "execution_count": 15,
     "metadata": {},
     "output_type": "execute_result"
    }
   ],
   "source": [
    "training_data.isnull().sum()"
   ]
  },
  {
   "cell_type": "markdown",
   "id": "fcd5addd",
   "metadata": {
    "papermill": {
     "duration": 0.052504,
     "end_time": "2021-08-11T13:20:26.698956",
     "exception": false,
     "start_time": "2021-08-11T13:20:26.646452",
     "status": "completed"
    },
    "tags": []
   },
   "source": [
    "We can see that some columns have null values in them. We need to clean our dataset in order for us to perform further analysis.\n",
    "We do not need the Cabin column for our analysis so, we will drop it from our dataset."
   ]
  },
  {
   "cell_type": "code",
   "execution_count": 16,
   "id": "911a76a1",
   "metadata": {
    "execution": {
     "iopub.execute_input": "2021-08-11T13:20:26.807558Z",
     "iopub.status.busy": "2021-08-11T13:20:26.806931Z",
     "iopub.status.idle": "2021-08-11T13:20:26.812412Z",
     "shell.execute_reply": "2021-08-11T13:20:26.813108Z",
     "shell.execute_reply.started": "2021-08-11T13:19:52.788098Z"
    },
    "papermill": {
     "duration": 0.061547,
     "end_time": "2021-08-11T13:20:26.813298",
     "exception": false,
     "start_time": "2021-08-11T13:20:26.751751",
     "status": "completed"
    },
    "tags": []
   },
   "outputs": [],
   "source": [
    "training_data.drop('Cabin', axis = 1, inplace = True)"
   ]
  },
  {
   "cell_type": "code",
   "execution_count": 17,
   "id": "556948c6",
   "metadata": {
    "execution": {
     "iopub.execute_input": "2021-08-11T13:20:26.921067Z",
     "iopub.status.busy": "2021-08-11T13:20:26.920334Z",
     "iopub.status.idle": "2021-08-11T13:20:26.931425Z",
     "shell.execute_reply": "2021-08-11T13:20:26.930684Z",
     "shell.execute_reply.started": "2021-08-11T13:19:52.801733Z"
    },
    "papermill": {
     "duration": 0.066801,
     "end_time": "2021-08-11T13:20:26.931578",
     "exception": false,
     "start_time": "2021-08-11T13:20:26.864777",
     "status": "completed"
    },
    "tags": []
   },
   "outputs": [],
   "source": [
    "training_data.dropna(inplace = True)"
   ]
  },
  {
   "cell_type": "code",
   "execution_count": 18,
   "id": "b36f58d4",
   "metadata": {
    "execution": {
     "iopub.execute_input": "2021-08-11T13:20:27.044476Z",
     "iopub.status.busy": "2021-08-11T13:20:27.043626Z",
     "iopub.status.idle": "2021-08-11T13:20:27.277996Z",
     "shell.execute_reply": "2021-08-11T13:20:27.277263Z",
     "shell.execute_reply.started": "2021-08-11T13:19:52.818591Z"
    },
    "papermill": {
     "duration": 0.294572,
     "end_time": "2021-08-11T13:20:27.278162",
     "exception": false,
     "start_time": "2021-08-11T13:20:26.983590",
     "status": "completed"
    },
    "tags": []
   },
   "outputs": [
    {
     "data": {
      "text/plain": [
       "<AxesSubplot:>"
      ]
     },
     "execution_count": 18,
     "metadata": {},
     "output_type": "execute_result"
    },
    {
     "data": {
      "image/png": "[encoded data removed]",
      "text/plain": [
       "<Figure size 720x360 with 1 Axes>"
      ]
     },
     "metadata": {},
     "output_type": "display_data"
    }
   ],
   "source": [
    "plt.figure(figsize=(10,5))\n",
    "sns.heatmap(training_data.isnull(), yticklabels = False, cbar = False)"
   ]
  },
  {
   "cell_type": "code",
   "execution_count": 19,
   "id": "d81d1774",
   "metadata": {
    "execution": {
     "iopub.execute_input": "2021-08-11T13:20:27.403453Z",
     "iopub.status.busy": "2021-08-11T13:20:27.402741Z",
     "iopub.status.idle": "2021-08-11T13:20:27.408208Z",
     "shell.execute_reply": "2021-08-11T13:20:27.407606Z",
     "shell.execute_reply.started": "2021-08-11T13:19:53.074371Z"
    },
    "papermill": {
     "duration": 0.076063,
     "end_time": "2021-08-11T13:20:27.408356",
     "exception": false,
     "start_time": "2021-08-11T13:20:27.332293",
     "status": "completed"
    },
    "tags": []
   },
   "outputs": [
    {
     "data": {
      "text/html": [
       "<div>\n",
       "<style scoped>\n",
       "    .dataframe tbody tr th:only-of-type {\n",
       "        vertical-align: middle;\n",
       "    }\n",
       "\n",
       "    .dataframe tbody tr th {\n",
       "        vertical-align: top;\n",
       "    }\n",
       "\n",
       "    .dataframe thead th {\n",
       "        text-align: right;\n",
       "    }\n",
       "</style>\n",
       "<table border=\"1\" class=\"dataframe\">\n",
       "  <thead>\n",
       "    <tr style=\"text-align: right;\">\n",
       "      <th></th>\n",
       "      <th>PassengerId</th>\n",
       "      <th>Survived</th>\n",
       "      <th>Pclass</th>\n",
       "      <th>Name</th>\n",
       "      <th>Sex</th>\n",
       "      <th>Age</th>\n",
       "      <th>SibSp</th>\n",
       "      <th>Parch</th>\n",
       "      <th>Ticket</th>\n",
       "      <th>Fare</th>\n",
       "      <th>Embarked</th>\n",
       "    </tr>\n",
       "  </thead>\n",
       "  <tbody>\n",
       "    <tr>\n",
       "      <th>0</th>\n",
       "      <td>1</td>\n",
       "      <td>0</td>\n",
       "      <td>3</td>\n",
       "      <td>Braund, Mr. Owen Harris</td>\n",
       "      <td>male</td>\n",
       "      <td>22.0</td>\n",
       "      <td>1</td>\n",
       "      <td>0</td>\n",
       "      <td>A/5 21171</td>\n",
       "      <td>7.2500</td>\n",
       "      <td>S</td>\n",
       "    </tr>\n",
       "    <tr>\n",
       "      <th>1</th>\n",
       "      <td>2</td>\n",
       "      <td>1</td>\n",
       "      <td>1</td>\n",
       "      <td>Cumings, Mrs. John Bradley (Florence Briggs Th...</td>\n",
       "      <td>female</td>\n",
       "      <td>38.0</td>\n",
       "      <td>1</td>\n",
       "      <td>0</td>\n",
       "      <td>PC 17599</td>\n",
       "      <td>71.2833</td>\n",
       "      <td>C</td>\n",
       "    </tr>\n",
       "    <tr>\n",
       "      <th>2</th>\n",
       "      <td>3</td>\n",
       "      <td>1</td>\n",
       "      <td>3</td>\n",
       "      <td>Heikkinen, Miss. Laina</td>\n",
       "      <td>female</td>\n",
       "      <td>26.0</td>\n",
       "      <td>0</td>\n",
       "      <td>0</td>\n",
       "      <td>STON/O2. 3101282</td>\n",
       "      <td>7.9250</td>\n",
       "      <td>S</td>\n",
       "    </tr>\n",
       "    <tr>\n",
       "      <th>3</th>\n",
       "      <td>4</td>\n",
       "      <td>1</td>\n",
       "      <td>1</td>\n",
       "      <td>Futrelle, Mrs. Jacques Heath (Lily May Peel)</td>\n",
       "      <td>female</td>\n",
       "      <td>35.0</td>\n",
       "      <td>1</td>\n",
       "      <td>0</td>\n",
       "      <td>113803</td>\n",
       "      <td>53.1000</td>\n",
       "      <td>S</td>\n",
       "    </tr>\n",
       "    <tr>\n",
       "      <th>4</th>\n",
       "      <td>5</td>\n",
       "      <td>0</td>\n",
       "      <td>3</td>\n",
       "      <td>Allen, Mr. William Henry</td>\n",
       "      <td>male</td>\n",
       "      <td>35.0</td>\n",
       "      <td>0</td>\n",
       "      <td>0</td>\n",
       "      <td>373450</td>\n",
       "      <td>8.0500</td>\n",
       "      <td>S</td>\n",
       "    </tr>\n",
       "  </tbody>\n",
       "</table>\n",
       "</div>"
      ],
      "text/plain": [
       "   PassengerId  Survived  Pclass  \\\n",
       "0            1         0       3   \n",
       "1            2         1       1   \n",
       "2            3         1       3   \n",
       "3            4         1       1   \n",
       "4            5         0       3   \n",
       "\n",
       "                                                Name     Sex   Age  SibSp  \\\n",
       "0                            Braund, Mr. Owen Harris    male  22.0      1   \n",
       "1  Cumings, Mrs. John Bradley (Florence Briggs Th...  female  38.0      1   \n",
       "2                             Heikkinen, Miss. Laina  female  26.0      0   \n",
       "3       Futrelle, Mrs. Jacques Heath (Lily May Peel)  female  35.0      1   \n",
       "4                           Allen, Mr. William Henry    male  35.0      0   \n",
       "\n",
       "   Parch            Ticket     Fare Embarked  \n",
       "0      0         A/5 21171   7.2500        S  \n",
       "1      0          PC 17599  71.2833        C  \n",
       "2      0  STON/O2. 3101282   7.9250        S  \n",
       "3      0            113803  53.1000        S  \n",
       "4      0            373450   8.0500        S  "
      ]
     },
     "execution_count": 19,
     "metadata": {},
     "output_type": "execute_result"
    }
   ],
   "source": [
    "training_data.head()"
   ]
  },
  {
   "cell_type": "markdown",
   "id": "6af0027e",
   "metadata": {
    "papermill": {
     "duration": 0.054998,
     "end_time": "2021-08-11T13:20:27.518392",
     "exception": false,
     "start_time": "2021-08-11T13:20:27.463394",
     "status": "completed"
    },
    "tags": []
   },
   "source": [
    "We can see that our dataset has a lot of string values which needs to be converted into categorical values so that we can build our prediction model. Whenever we apply machine learing, we need to make sure that our dataset does not have any string values."
   ]
  },
  {
   "cell_type": "code",
   "execution_count": 20,
   "id": "86d578af",
   "metadata": {
    "execution": {
     "iopub.execute_input": "2021-08-11T13:20:27.639818Z",
     "iopub.status.busy": "2021-08-11T13:20:27.638895Z",
     "iopub.status.idle": "2021-08-11T13:20:27.642765Z",
     "shell.execute_reply": "2021-08-11T13:20:27.643280Z",
     "shell.execute_reply.started": "2021-08-11T13:19:53.093856Z"
    },
    "papermill": {
     "duration": 0.068842,
     "end_time": "2021-08-11T13:20:27.643473",
     "exception": false,
     "start_time": "2021-08-11T13:20:27.574631",
     "status": "completed"
    },
    "tags": []
   },
   "outputs": [],
   "source": [
    "pclass = pd.get_dummies(training_data.Pclass, drop_first = True)"
   ]
  },
  {
   "cell_type": "code",
   "execution_count": 21,
   "id": "f46bbebf",
   "metadata": {
    "execution": {
     "iopub.execute_input": "2021-08-11T13:20:27.761415Z",
     "iopub.status.busy": "2021-08-11T13:20:27.760275Z",
     "iopub.status.idle": "2021-08-11T13:20:27.765874Z",
     "shell.execute_reply": "2021-08-11T13:20:27.765075Z",
     "shell.execute_reply.started": "2021-08-11T13:19:53.104753Z"
    },
    "papermill": {
     "duration": 0.06675,
     "end_time": "2021-08-11T13:20:27.766037",
     "exception": false,
     "start_time": "2021-08-11T13:20:27.699287",
     "status": "completed"
    },
    "tags": []
   },
   "outputs": [],
   "source": [
    "sex = pd.get_dummies(training_data.Sex, drop_first = True)"
   ]
  },
  {
   "cell_type": "code",
   "execution_count": 22,
   "id": "0702897b",
   "metadata": {
    "execution": {
     "iopub.execute_input": "2021-08-11T13:20:27.882861Z",
     "iopub.status.busy": "2021-08-11T13:20:27.881883Z",
     "iopub.status.idle": "2021-08-11T13:20:27.886034Z",
     "shell.execute_reply": "2021-08-11T13:20:27.884726Z",
     "shell.execute_reply.started": "2021-08-11T13:19:53.118763Z"
    },
    "papermill": {
     "duration": 0.06567,
     "end_time": "2021-08-11T13:20:27.886225",
     "exception": false,
     "start_time": "2021-08-11T13:20:27.820555",
     "status": "completed"
    },
    "tags": []
   },
   "outputs": [],
   "source": [
    "embark = pd.get_dummies(training_data.Embarked, drop_first = True)"
   ]
  },
  {
   "cell_type": "code",
   "execution_count": 23,
   "id": "8f831a9d",
   "metadata": {
    "execution": {
     "iopub.execute_input": "2021-08-11T13:20:28.017623Z",
     "iopub.status.busy": "2021-08-11T13:20:28.016627Z",
     "iopub.status.idle": "2021-08-11T13:20:28.021000Z",
     "shell.execute_reply": "2021-08-11T13:20:28.021645Z",
     "shell.execute_reply.started": "2021-08-11T13:19:53.129154Z"
    },
    "papermill": {
     "duration": 0.081625,
     "end_time": "2021-08-11T13:20:28.021840",
     "exception": false,
     "start_time": "2021-08-11T13:20:27.940215",
     "status": "completed"
    },
    "tags": []
   },
   "outputs": [
    {
     "data": {
      "text/html": [
       "<div>\n",
       "<style scoped>\n",
       "    .dataframe tbody tr th:only-of-type {\n",
       "        vertical-align: middle;\n",
       "    }\n",
       "\n",
       "    .dataframe tbody tr th {\n",
       "        vertical-align: top;\n",
       "    }\n",
       "\n",
       "    .dataframe thead th {\n",
       "        text-align: right;\n",
       "    }\n",
       "</style>\n",
       "<table border=\"1\" class=\"dataframe\">\n",
       "  <thead>\n",
       "    <tr style=\"text-align: right;\">\n",
       "      <th></th>\n",
       "      <th>PassengerId</th>\n",
       "      <th>Survived</th>\n",
       "      <th>Pclass</th>\n",
       "      <th>Name</th>\n",
       "      <th>Sex</th>\n",
       "      <th>Age</th>\n",
       "      <th>SibSp</th>\n",
       "      <th>Parch</th>\n",
       "      <th>Ticket</th>\n",
       "      <th>Fare</th>\n",
       "      <th>Embarked</th>\n",
       "      <th>2</th>\n",
       "      <th>3</th>\n",
       "      <th>male</th>\n",
       "      <th>Q</th>\n",
       "      <th>S</th>\n",
       "    </tr>\n",
       "  </thead>\n",
       "  <tbody>\n",
       "    <tr>\n",
       "      <th>0</th>\n",
       "      <td>1</td>\n",
       "      <td>0</td>\n",
       "      <td>3</td>\n",
       "      <td>Braund, Mr. Owen Harris</td>\n",
       "      <td>male</td>\n",
       "      <td>22.0</td>\n",
       "      <td>1</td>\n",
       "      <td>0</td>\n",
       "      <td>A/5 21171</td>\n",
       "      <td>7.2500</td>\n",
       "      <td>S</td>\n",
       "      <td>0</td>\n",
       "      <td>1</td>\n",
       "      <td>1</td>\n",
       "      <td>0</td>\n",
       "      <td>1</td>\n",
       "    </tr>\n",
       "    <tr>\n",
       "      <th>1</th>\n",
       "      <td>2</td>\n",
       "      <td>1</td>\n",
       "      <td>1</td>\n",
       "      <td>Cumings, Mrs. John Bradley (Florence Briggs Th...</td>\n",
       "      <td>female</td>\n",
       "      <td>38.0</td>\n",
       "      <td>1</td>\n",
       "      <td>0</td>\n",
       "      <td>PC 17599</td>\n",
       "      <td>71.2833</td>\n",
       "      <td>C</td>\n",
       "      <td>0</td>\n",
       "      <td>0</td>\n",
       "      <td>0</td>\n",
       "      <td>0</td>\n",
       "      <td>0</td>\n",
       "    </tr>\n",
       "    <tr>\n",
       "      <th>2</th>\n",
       "      <td>3</td>\n",
       "      <td>1</td>\n",
       "      <td>3</td>\n",
       "      <td>Heikkinen, Miss. Laina</td>\n",
       "      <td>female</td>\n",
       "      <td>26.0</td>\n",
       "      <td>0</td>\n",
       "      <td>0</td>\n",
       "      <td>STON/O2. 3101282</td>\n",
       "      <td>7.9250</td>\n",
       "      <td>S</td>\n",
       "      <td>0</td>\n",
       "      <td>1</td>\n",
       "      <td>0</td>\n",
       "      <td>0</td>\n",
       "      <td>1</td>\n",
       "    </tr>\n",
       "    <tr>\n",
       "      <th>3</th>\n",
       "      <td>4</td>\n",
       "      <td>1</td>\n",
       "      <td>1</td>\n",
       "      <td>Futrelle, Mrs. Jacques Heath (Lily May Peel)</td>\n",
       "      <td>female</td>\n",
       "      <td>35.0</td>\n",
       "      <td>1</td>\n",
       "      <td>0</td>\n",
       "      <td>113803</td>\n",
       "      <td>53.1000</td>\n",
       "      <td>S</td>\n",
       "      <td>0</td>\n",
       "      <td>0</td>\n",
       "      <td>0</td>\n",
       "      <td>0</td>\n",
       "      <td>1</td>\n",
       "    </tr>\n",
       "    <tr>\n",
       "      <th>4</th>\n",
       "      <td>5</td>\n",
       "      <td>0</td>\n",
       "      <td>3</td>\n",
       "      <td>Allen, Mr. William Henry</td>\n",
       "      <td>male</td>\n",
       "      <td>35.0</td>\n",
       "      <td>0</td>\n",
       "      <td>0</td>\n",
       "      <td>373450</td>\n",
       "      <td>8.0500</td>\n",
       "      <td>S</td>\n",
       "      <td>0</td>\n",
       "      <td>1</td>\n",
       "      <td>1</td>\n",
       "      <td>0</td>\n",
       "      <td>1</td>\n",
       "    </tr>\n",
       "  </tbody>\n",
       "</table>\n",
       "</div>"
      ],
      "text/plain": [
       "   PassengerId  Survived  Pclass  \\\n",
       "0            1         0       3   \n",
       "1            2         1       1   \n",
       "2            3         1       3   \n",
       "3            4         1       1   \n",
       "4            5         0       3   \n",
       "\n",
       "                                                Name     Sex   Age  SibSp  \\\n",
       "0                            Braund, Mr. Owen Harris    male  22.0      1   \n",
       "1  Cumings, Mrs. John Bradley (Florence Briggs Th...  female  38.0      1   \n",
       "2                             Heikkinen, Miss. Laina  female  26.0      0   \n",
       "3       Futrelle, Mrs. Jacques Heath (Lily May Peel)  female  35.0      1   \n",
       "4                           Allen, Mr. William Henry    male  35.0      0   \n",
       "\n",
       "   Parch            Ticket     Fare Embarked  2  3  male  Q  S  \n",
       "0      0         A/5 21171   7.2500        S  0  1     1  0  1  \n",
       "1      0          PC 17599  71.2833        C  0  0     0  0  0  \n",
       "2      0  STON/O2. 3101282   7.9250        S  0  1     0  0  1  \n",
       "3      0            113803  53.1000        S  0  0     0  0  1  \n",
       "4      0            373450   8.0500        S  0  1     1  0  1  "
      ]
     },
     "execution_count": 23,
     "metadata": {},
     "output_type": "execute_result"
    }
   ],
   "source": [
    "training_data = pd.concat([training_data, pclass, sex, embark], axis = 1)\n",
    "training_data.head()"
   ]
  },
  {
   "cell_type": "markdown",
   "id": "8d4e1cd9",
   "metadata": {
    "papermill": {
     "duration": 0.055588,
     "end_time": "2021-08-11T13:20:28.131020",
     "exception": false,
     "start_time": "2021-08-11T13:20:28.075432",
     "status": "completed"
    },
    "tags": []
   },
   "source": [
    "Now we do not need columns such as Pclass, Sex and Embarked so, we will remove these columns from our dataset."
   ]
  },
  {
   "cell_type": "code",
   "execution_count": 24,
   "id": "f37d4a04",
   "metadata": {
    "execution": {
     "iopub.execute_input": "2021-08-11T13:20:28.249600Z",
     "iopub.status.busy": "2021-08-11T13:20:28.247909Z",
     "iopub.status.idle": "2021-08-11T13:20:28.252924Z",
     "shell.execute_reply": "2021-08-11T13:20:28.253476Z",
     "shell.execute_reply.started": "2021-08-11T13:19:53.161240Z"
    },
    "papermill": {
     "duration": 0.066765,
     "end_time": "2021-08-11T13:20:28.253655",
     "exception": false,
     "start_time": "2021-08-11T13:20:28.186890",
     "status": "completed"
    },
    "tags": []
   },
   "outputs": [],
   "source": [
    "training_data.drop(['PassengerId', 'Pclass', 'Sex', 'Name', 'Ticket', 'Embarked'], axis = 1, inplace = True)"
   ]
  },
  {
   "cell_type": "code",
   "execution_count": 25,
   "id": "f182f3a3",
   "metadata": {
    "execution": {
     "iopub.execute_input": "2021-08-11T13:20:28.375585Z",
     "iopub.status.busy": "2021-08-11T13:20:28.374554Z",
     "iopub.status.idle": "2021-08-11T13:20:28.379601Z",
     "shell.execute_reply": "2021-08-11T13:20:28.380136Z",
     "shell.execute_reply.started": "2021-08-11T13:19:53.170289Z"
    },
    "papermill": {
     "duration": 0.073185,
     "end_time": "2021-08-11T13:20:28.380315",
     "exception": false,
     "start_time": "2021-08-11T13:20:28.307130",
     "status": "completed"
    },
    "tags": []
   },
   "outputs": [
    {
     "data": {
      "text/html": [
       "<div>\n",
       "<style scoped>\n",
       "    .dataframe tbody tr th:only-of-type {\n",
       "        vertical-align: middle;\n",
       "    }\n",
       "\n",
       "    .dataframe tbody tr th {\n",
       "        vertical-align: top;\n",
       "    }\n",
       "\n",
       "    .dataframe thead th {\n",
       "        text-align: right;\n",
       "    }\n",
       "</style>\n",
       "<table border=\"1\" class=\"dataframe\">\n",
       "  <thead>\n",
       "    <tr style=\"text-align: right;\">\n",
       "      <th></th>\n",
       "      <th>Survived</th>\n",
       "      <th>Age</th>\n",
       "      <th>SibSp</th>\n",
       "      <th>Parch</th>\n",
       "      <th>Fare</th>\n",
       "      <th>2</th>\n",
       "      <th>3</th>\n",
       "      <th>male</th>\n",
       "      <th>Q</th>\n",
       "      <th>S</th>\n",
       "    </tr>\n",
       "  </thead>\n",
       "  <tbody>\n",
       "    <tr>\n",
       "      <th>0</th>\n",
       "      <td>0</td>\n",
       "      <td>22.0</td>\n",
       "      <td>1</td>\n",
       "      <td>0</td>\n",
       "      <td>7.2500</td>\n",
       "      <td>0</td>\n",
       "      <td>1</td>\n",
       "      <td>1</td>\n",
       "      <td>0</td>\n",
       "      <td>1</td>\n",
       "    </tr>\n",
       "    <tr>\n",
       "      <th>1</th>\n",
       "      <td>1</td>\n",
       "      <td>38.0</td>\n",
       "      <td>1</td>\n",
       "      <td>0</td>\n",
       "      <td>71.2833</td>\n",
       "      <td>0</td>\n",
       "      <td>0</td>\n",
       "      <td>0</td>\n",
       "      <td>0</td>\n",
       "      <td>0</td>\n",
       "    </tr>\n",
       "    <tr>\n",
       "      <th>2</th>\n",
       "      <td>1</td>\n",
       "      <td>26.0</td>\n",
       "      <td>0</td>\n",
       "      <td>0</td>\n",
       "      <td>7.9250</td>\n",
       "      <td>0</td>\n",
       "      <td>1</td>\n",
       "      <td>0</td>\n",
       "      <td>0</td>\n",
       "      <td>1</td>\n",
       "    </tr>\n",
       "    <tr>\n",
       "      <th>3</th>\n",
       "      <td>1</td>\n",
       "      <td>35.0</td>\n",
       "      <td>1</td>\n",
       "      <td>0</td>\n",
       "      <td>53.1000</td>\n",
       "      <td>0</td>\n",
       "      <td>0</td>\n",
       "      <td>0</td>\n",
       "      <td>0</td>\n",
       "      <td>1</td>\n",
       "    </tr>\n",
       "    <tr>\n",
       "      <th>4</th>\n",
       "      <td>0</td>\n",
       "      <td>35.0</td>\n",
       "      <td>0</td>\n",
       "      <td>0</td>\n",
       "      <td>8.0500</td>\n",
       "      <td>0</td>\n",
       "      <td>1</td>\n",
       "      <td>1</td>\n",
       "      <td>0</td>\n",
       "      <td>1</td>\n",
       "    </tr>\n",
       "  </tbody>\n",
       "</table>\n",
       "</div>"
      ],
      "text/plain": [
       "   Survived   Age  SibSp  Parch     Fare  2  3  male  Q  S\n",
       "0         0  22.0      1      0   7.2500  0  1     1  0  1\n",
       "1         1  38.0      1      0  71.2833  0  0     0  0  0\n",
       "2         1  26.0      0      0   7.9250  0  1     0  0  1\n",
       "3         1  35.0      1      0  53.1000  0  0     0  0  1\n",
       "4         0  35.0      0      0   8.0500  0  1     1  0  1"
      ]
     },
     "execution_count": 25,
     "metadata": {},
     "output_type": "execute_result"
    }
   ],
   "source": [
    "training_data.head()"
   ]
  },
  {
   "cell_type": "code",
   "execution_count": 26,
   "id": "5d2e0083",
   "metadata": {
    "execution": {
     "iopub.execute_input": "2021-08-11T13:20:28.497096Z",
     "iopub.status.busy": "2021-08-11T13:20:28.496151Z",
     "iopub.status.idle": "2021-08-11T13:20:28.499626Z",
     "shell.execute_reply": "2021-08-11T13:20:28.499088Z",
     "shell.execute_reply.started": "2021-08-11T13:19:53.192527Z"
    },
    "papermill": {
     "duration": 0.064544,
     "end_time": "2021-08-11T13:20:28.499768",
     "exception": false,
     "start_time": "2021-08-11T13:20:28.435224",
     "status": "completed"
    },
    "tags": []
   },
   "outputs": [],
   "source": [
    "X_train = training_data.drop('Survived', axis = 1)\n",
    "y_train = training_data.Survived"
   ]
  },
  {
   "cell_type": "code",
   "execution_count": 27,
   "id": "fa5c5443",
   "metadata": {
    "execution": {
     "iopub.execute_input": "2021-08-11T13:20:28.624584Z",
     "iopub.status.busy": "2021-08-11T13:20:28.623495Z",
     "iopub.status.idle": "2021-08-11T13:20:28.628831Z",
     "shell.execute_reply": "2021-08-11T13:20:28.628130Z",
     "shell.execute_reply.started": "2021-08-11T13:19:53.203980Z"
    },
    "papermill": {
     "duration": 0.074346,
     "end_time": "2021-08-11T13:20:28.628988",
     "exception": false,
     "start_time": "2021-08-11T13:20:28.554642",
     "status": "completed"
    },
    "tags": []
   },
   "outputs": [
    {
     "data": {
      "text/html": [
       "<div>\n",
       "<style scoped>\n",
       "    .dataframe tbody tr th:only-of-type {\n",
       "        vertical-align: middle;\n",
       "    }\n",
       "\n",
       "    .dataframe tbody tr th {\n",
       "        vertical-align: top;\n",
       "    }\n",
       "\n",
       "    .dataframe thead th {\n",
       "        text-align: right;\n",
       "    }\n",
       "</style>\n",
       "<table border=\"1\" class=\"dataframe\">\n",
       "  <thead>\n",
       "    <tr style=\"text-align: right;\">\n",
       "      <th></th>\n",
       "      <th>Age</th>\n",
       "      <th>SibSp</th>\n",
       "      <th>Parch</th>\n",
       "      <th>Fare</th>\n",
       "      <th>2</th>\n",
       "      <th>3</th>\n",
       "      <th>male</th>\n",
       "      <th>Q</th>\n",
       "      <th>S</th>\n",
       "    </tr>\n",
       "  </thead>\n",
       "  <tbody>\n",
       "    <tr>\n",
       "      <th>0</th>\n",
       "      <td>22.0</td>\n",
       "      <td>1</td>\n",
       "      <td>0</td>\n",
       "      <td>7.2500</td>\n",
       "      <td>0</td>\n",
       "      <td>1</td>\n",
       "      <td>1</td>\n",
       "      <td>0</td>\n",
       "      <td>1</td>\n",
       "    </tr>\n",
       "    <tr>\n",
       "      <th>1</th>\n",
       "      <td>38.0</td>\n",
       "      <td>1</td>\n",
       "      <td>0</td>\n",
       "      <td>71.2833</td>\n",
       "      <td>0</td>\n",
       "      <td>0</td>\n",
       "      <td>0</td>\n",
       "      <td>0</td>\n",
       "      <td>0</td>\n",
       "    </tr>\n",
       "    <tr>\n",
       "      <th>2</th>\n",
       "      <td>26.0</td>\n",
       "      <td>0</td>\n",
       "      <td>0</td>\n",
       "      <td>7.9250</td>\n",
       "      <td>0</td>\n",
       "      <td>1</td>\n",
       "      <td>0</td>\n",
       "      <td>0</td>\n",
       "      <td>1</td>\n",
       "    </tr>\n",
       "    <tr>\n",
       "      <th>3</th>\n",
       "      <td>35.0</td>\n",
       "      <td>1</td>\n",
       "      <td>0</td>\n",
       "      <td>53.1000</td>\n",
       "      <td>0</td>\n",
       "      <td>0</td>\n",
       "      <td>0</td>\n",
       "      <td>0</td>\n",
       "      <td>1</td>\n",
       "    </tr>\n",
       "    <tr>\n",
       "      <th>4</th>\n",
       "      <td>35.0</td>\n",
       "      <td>0</td>\n",
       "      <td>0</td>\n",
       "      <td>8.0500</td>\n",
       "      <td>0</td>\n",
       "      <td>1</td>\n",
       "      <td>1</td>\n",
       "      <td>0</td>\n",
       "      <td>1</td>\n",
       "    </tr>\n",
       "  </tbody>\n",
       "</table>\n",
       "</div>"
      ],
      "text/plain": [
       "    Age  SibSp  Parch     Fare  2  3  male  Q  S\n",
       "0  22.0      1      0   7.2500  0  1     1  0  1\n",
       "1  38.0      1      0  71.2833  0  0     0  0  0\n",
       "2  26.0      0      0   7.9250  0  1     0  0  1\n",
       "3  35.0      1      0  53.1000  0  0     0  0  1\n",
       "4  35.0      0      0   8.0500  0  1     1  0  1"
      ]
     },
     "execution_count": 27,
     "metadata": {},
     "output_type": "execute_result"
    }
   ],
   "source": [
    "X_train.head()"
   ]
  },
  {
   "cell_type": "markdown",
   "id": "15412a38",
   "metadata": {
    "papermill": {
     "duration": 0.054472,
     "end_time": "2021-08-11T13:20:28.739498",
     "exception": false,
     "start_time": "2021-08-11T13:20:28.685026",
     "status": "completed"
    },
    "tags": []
   },
   "source": [
    "Importing our testing dataset"
   ]
  },
  {
   "cell_type": "code",
   "execution_count": 28,
   "id": "9f5987e7",
   "metadata": {
    "execution": {
     "iopub.execute_input": "2021-08-11T13:20:28.859753Z",
     "iopub.status.busy": "2021-08-11T13:20:28.859033Z",
     "iopub.status.idle": "2021-08-11T13:20:28.875304Z",
     "shell.execute_reply": "2021-08-11T13:20:28.875916Z",
     "shell.execute_reply.started": "2021-08-11T13:19:53.224322Z"
    },
    "papermill": {
     "duration": 0.07869,
     "end_time": "2021-08-11T13:20:28.876103",
     "exception": false,
     "start_time": "2021-08-11T13:20:28.797413",
     "status": "completed"
    },
    "tags": []
   },
   "outputs": [],
   "source": [
    "test_data = pd.read_csv('../input/titanic/test.csv')\n",
    "test_data1 = test_data"
   ]
  },
  {
   "cell_type": "code",
   "execution_count": 29,
   "id": "a7372a6a",
   "metadata": {
    "execution": {
     "iopub.execute_input": "2021-08-11T13:20:28.990654Z",
     "iopub.status.busy": "2021-08-11T13:20:28.989924Z",
     "iopub.status.idle": "2021-08-11T13:20:29.008042Z",
     "shell.execute_reply": "2021-08-11T13:20:29.008597Z",
     "shell.execute_reply.started": "2021-08-11T13:19:53.235679Z"
    },
    "papermill": {
     "duration": 0.077906,
     "end_time": "2021-08-11T13:20:29.008780",
     "exception": false,
     "start_time": "2021-08-11T13:20:28.930874",
     "status": "completed"
    },
    "tags": []
   },
   "outputs": [
    {
     "data": {
      "text/html": [
       "<div>\n",
       "<style scoped>\n",
       "    .dataframe tbody tr th:only-of-type {\n",
       "        vertical-align: middle;\n",
       "    }\n",
       "\n",
       "    .dataframe tbody tr th {\n",
       "        vertical-align: top;\n",
       "    }\n",
       "\n",
       "    .dataframe thead th {\n",
       "        text-align: right;\n",
       "    }\n",
       "</style>\n",
       "<table border=\"1\" class=\"dataframe\">\n",
       "  <thead>\n",
       "    <tr style=\"text-align: right;\">\n",
       "      <th></th>\n",
       "      <th>PassengerId</th>\n",
       "      <th>Pclass</th>\n",
       "      <th>Name</th>\n",
       "      <th>Sex</th>\n",
       "      <th>Age</th>\n",
       "      <th>SibSp</th>\n",
       "      <th>Parch</th>\n",
       "      <th>Ticket</th>\n",
       "      <th>Fare</th>\n",
       "      <th>Cabin</th>\n",
       "      <th>Embarked</th>\n",
       "    </tr>\n",
       "  </thead>\n",
       "  <tbody>\n",
       "    <tr>\n",
       "      <th>0</th>\n",
       "      <td>892</td>\n",
       "      <td>3</td>\n",
       "      <td>Kelly, Mr. James</td>\n",
       "      <td>male</td>\n",
       "      <td>34.5</td>\n",
       "      <td>0</td>\n",
       "      <td>0</td>\n",
       "      <td>330911</td>\n",
       "      <td>7.8292</td>\n",
       "      <td>NaN</td>\n",
       "      <td>Q</td>\n",
       "    </tr>\n",
       "    <tr>\n",
       "      <th>1</th>\n",
       "      <td>893</td>\n",
       "      <td>3</td>\n",
       "      <td>Wilkes, Mrs. James (Ellen Needs)</td>\n",
       "      <td>female</td>\n",
       "      <td>47.0</td>\n",
       "      <td>1</td>\n",
       "      <td>0</td>\n",
       "      <td>363272</td>\n",
       "      <td>7.0000</td>\n",
       "      <td>NaN</td>\n",
       "      <td>S</td>\n",
       "    </tr>\n",
       "    <tr>\n",
       "      <th>2</th>\n",
       "      <td>894</td>\n",
       "      <td>2</td>\n",
       "      <td>Myles, Mr. Thomas Francis</td>\n",
       "      <td>male</td>\n",
       "      <td>62.0</td>\n",
       "      <td>0</td>\n",
       "      <td>0</td>\n",
       "      <td>240276</td>\n",
       "      <td>9.6875</td>\n",
       "      <td>NaN</td>\n",
       "      <td>Q</td>\n",
       "    </tr>\n",
       "    <tr>\n",
       "      <th>3</th>\n",
       "      <td>895</td>\n",
       "      <td>3</td>\n",
       "      <td>Wirz, Mr. Albert</td>\n",
       "      <td>male</td>\n",
       "      <td>27.0</td>\n",
       "      <td>0</td>\n",
       "      <td>0</td>\n",
       "      <td>315154</td>\n",
       "      <td>8.6625</td>\n",
       "      <td>NaN</td>\n",
       "      <td>S</td>\n",
       "    </tr>\n",
       "    <tr>\n",
       "      <th>4</th>\n",
       "      <td>896</td>\n",
       "      <td>3</td>\n",
       "      <td>Hirvonen, Mrs. Alexander (Helga E Lindqvist)</td>\n",
       "      <td>female</td>\n",
       "      <td>22.0</td>\n",
       "      <td>1</td>\n",
       "      <td>1</td>\n",
       "      <td>3101298</td>\n",
       "      <td>12.2875</td>\n",
       "      <td>NaN</td>\n",
       "      <td>S</td>\n",
       "    </tr>\n",
       "  </tbody>\n",
       "</table>\n",
       "</div>"
      ],
      "text/plain": [
       "   PassengerId  Pclass                                          Name     Sex  \\\n",
       "0          892       3                              Kelly, Mr. James    male   \n",
       "1          893       3              Wilkes, Mrs. James (Ellen Needs)  female   \n",
       "2          894       2                     Myles, Mr. Thomas Francis    male   \n",
       "3          895       3                              Wirz, Mr. Albert    male   \n",
       "4          896       3  Hirvonen, Mrs. Alexander (Helga E Lindqvist)  female   \n",
       "\n",
       "    Age  SibSp  Parch   Ticket     Fare Cabin Embarked  \n",
       "0  34.5      0      0   330911   7.8292   NaN        Q  \n",
       "1  47.0      1      0   363272   7.0000   NaN        S  \n",
       "2  62.0      0      0   240276   9.6875   NaN        Q  \n",
       "3  27.0      0      0   315154   8.6625   NaN        S  \n",
       "4  22.0      1      1  3101298  12.2875   NaN        S  "
      ]
     },
     "execution_count": 29,
     "metadata": {},
     "output_type": "execute_result"
    }
   ],
   "source": [
    "test_data.head()"
   ]
  },
  {
   "cell_type": "markdown",
   "id": "87eb9b71",
   "metadata": {
    "papermill": {
     "duration": 0.055856,
     "end_time": "2021-08-11T13:20:29.122080",
     "exception": false,
     "start_time": "2021-08-11T13:20:29.066224",
     "status": "completed"
    },
    "tags": []
   },
   "source": [
    "Removing the cabin column from our testing dataset."
   ]
  },
  {
   "cell_type": "code",
   "execution_count": 30,
   "id": "b88ded5b",
   "metadata": {
    "execution": {
     "iopub.execute_input": "2021-08-11T13:20:29.238821Z",
     "iopub.status.busy": "2021-08-11T13:20:29.238069Z",
     "iopub.status.idle": "2021-08-11T13:20:29.243762Z",
     "shell.execute_reply": "2021-08-11T13:20:29.244424Z",
     "shell.execute_reply.started": "2021-08-11T13:19:53.256939Z"
    },
    "papermill": {
     "duration": 0.064596,
     "end_time": "2021-08-11T13:20:29.244615",
     "exception": false,
     "start_time": "2021-08-11T13:20:29.180019",
     "status": "completed"
    },
    "tags": []
   },
   "outputs": [],
   "source": [
    "test_data.drop('Cabin', axis = 1, inplace = True)"
   ]
  },
  {
   "cell_type": "code",
   "execution_count": 31,
   "id": "c1fdbd71",
   "metadata": {
    "execution": {
     "iopub.execute_input": "2021-08-11T13:20:29.361256Z",
     "iopub.status.busy": "2021-08-11T13:20:29.360478Z",
     "iopub.status.idle": "2021-08-11T13:20:29.367128Z",
     "shell.execute_reply": "2021-08-11T13:20:29.367836Z",
     "shell.execute_reply.started": "2021-08-11T13:19:53.269057Z"
    },
    "papermill": {
     "duration": 0.06619,
     "end_time": "2021-08-11T13:20:29.368036",
     "exception": false,
     "start_time": "2021-08-11T13:20:29.301846",
     "status": "completed"
    },
    "tags": []
   },
   "outputs": [],
   "source": [
    "test_data.Age = test_data.Age.fillna(test_data.Age.mean())\n",
    "test_data.Fare = test_data.Fare.fillna(test_data.Fare.mean())\n"
   ]
  },
  {
   "cell_type": "code",
   "execution_count": 32,
   "id": "ec655bac",
   "metadata": {
    "execution": {
     "iopub.execute_input": "2021-08-11T13:20:29.489086Z",
     "iopub.status.busy": "2021-08-11T13:20:29.488343Z",
     "iopub.status.idle": "2021-08-11T13:20:29.497602Z",
     "shell.execute_reply": "2021-08-11T13:20:29.498223Z",
     "shell.execute_reply.started": "2021-08-11T13:19:53.280043Z"
    },
    "papermill": {
     "duration": 0.07118,
     "end_time": "2021-08-11T13:20:29.498418",
     "exception": false,
     "start_time": "2021-08-11T13:20:29.427238",
     "status": "completed"
    },
    "tags": []
   },
   "outputs": [
    {
     "data": {
      "text/plain": [
       "PassengerId    0\n",
       "Pclass         0\n",
       "Name           0\n",
       "Sex            0\n",
       "Age            0\n",
       "SibSp          0\n",
       "Parch          0\n",
       "Ticket         0\n",
       "Fare           0\n",
       "Embarked       0\n",
       "dtype: int64"
      ]
     },
     "execution_count": 32,
     "metadata": {},
     "output_type": "execute_result"
    }
   ],
   "source": [
    "test_data.isnull().sum()"
   ]
  },
  {
   "cell_type": "markdown",
   "id": "8db4c76b",
   "metadata": {
    "papermill": {
     "duration": 0.057634,
     "end_time": "2021-08-11T13:20:29.614458",
     "exception": false,
     "start_time": "2021-08-11T13:20:29.556824",
     "status": "completed"
    },
    "tags": []
   },
   "source": [
    "Converting our string values into categorical data."
   ]
  },
  {
   "cell_type": "code",
   "execution_count": 33,
   "id": "eb73820f",
   "metadata": {
    "execution": {
     "iopub.execute_input": "2021-08-11T13:20:29.733305Z",
     "iopub.status.busy": "2021-08-11T13:20:29.732516Z",
     "iopub.status.idle": "2021-08-11T13:20:29.741298Z",
     "shell.execute_reply": "2021-08-11T13:20:29.741946Z",
     "shell.execute_reply.started": "2021-08-11T13:19:53.301726Z"
    },
    "papermill": {
     "duration": 0.068178,
     "end_time": "2021-08-11T13:20:29.742152",
     "exception": false,
     "start_time": "2021-08-11T13:20:29.673974",
     "status": "completed"
    },
    "tags": []
   },
   "outputs": [],
   "source": [
    "pclass1 = pd.get_dummies(test_data.Pclass, drop_first = True)\n",
    "sex1 = pd.get_dummies(test_data.Sex, drop_first = True)\n",
    "embark1 = pd.get_dummies(test_data.Embarked, drop_first = True)"
   ]
  },
  {
   "cell_type": "code",
   "execution_count": 34,
   "id": "74a47fef",
   "metadata": {
    "execution": {
     "iopub.execute_input": "2021-08-11T13:20:29.859700Z",
     "iopub.status.busy": "2021-08-11T13:20:29.858621Z",
     "iopub.status.idle": "2021-08-11T13:20:29.880974Z",
     "shell.execute_reply": "2021-08-11T13:20:29.881471Z",
     "shell.execute_reply.started": "2021-08-11T13:19:53.315952Z"
    },
    "papermill": {
     "duration": 0.083009,
     "end_time": "2021-08-11T13:20:29.881698",
     "exception": false,
     "start_time": "2021-08-11T13:20:29.798689",
     "status": "completed"
    },
    "tags": []
   },
   "outputs": [
    {
     "data": {
      "text/html": [
       "<div>\n",
       "<style scoped>\n",
       "    .dataframe tbody tr th:only-of-type {\n",
       "        vertical-align: middle;\n",
       "    }\n",
       "\n",
       "    .dataframe tbody tr th {\n",
       "        vertical-align: top;\n",
       "    }\n",
       "\n",
       "    .dataframe thead th {\n",
       "        text-align: right;\n",
       "    }\n",
       "</style>\n",
       "<table border=\"1\" class=\"dataframe\">\n",
       "  <thead>\n",
       "    <tr style=\"text-align: right;\">\n",
       "      <th></th>\n",
       "      <th>PassengerId</th>\n",
       "      <th>Pclass</th>\n",
       "      <th>Name</th>\n",
       "      <th>Sex</th>\n",
       "      <th>Age</th>\n",
       "      <th>SibSp</th>\n",
       "      <th>Parch</th>\n",
       "      <th>Ticket</th>\n",
       "      <th>Fare</th>\n",
       "      <th>Embarked</th>\n",
       "      <th>2</th>\n",
       "      <th>3</th>\n",
       "      <th>male</th>\n",
       "      <th>Q</th>\n",
       "      <th>S</th>\n",
       "    </tr>\n",
       "  </thead>\n",
       "  <tbody>\n",
       "    <tr>\n",
       "      <th>0</th>\n",
       "      <td>892</td>\n",
       "      <td>3</td>\n",
       "      <td>Kelly, Mr. James</td>\n",
       "      <td>male</td>\n",
       "      <td>34.5</td>\n",
       "      <td>0</td>\n",
       "      <td>0</td>\n",
       "      <td>330911</td>\n",
       "      <td>7.8292</td>\n",
       "      <td>Q</td>\n",
       "      <td>0</td>\n",
       "      <td>1</td>\n",
       "      <td>1</td>\n",
       "      <td>1</td>\n",
       "      <td>0</td>\n",
       "    </tr>\n",
       "    <tr>\n",
       "      <th>1</th>\n",
       "      <td>893</td>\n",
       "      <td>3</td>\n",
       "      <td>Wilkes, Mrs. James (Ellen Needs)</td>\n",
       "      <td>female</td>\n",
       "      <td>47.0</td>\n",
       "      <td>1</td>\n",
       "      <td>0</td>\n",
       "      <td>363272</td>\n",
       "      <td>7.0000</td>\n",
       "      <td>S</td>\n",
       "      <td>0</td>\n",
       "      <td>1</td>\n",
       "      <td>0</td>\n",
       "      <td>0</td>\n",
       "      <td>1</td>\n",
       "    </tr>\n",
       "    <tr>\n",
       "      <th>2</th>\n",
       "      <td>894</td>\n",
       "      <td>2</td>\n",
       "      <td>Myles, Mr. Thomas Francis</td>\n",
       "      <td>male</td>\n",
       "      <td>62.0</td>\n",
       "      <td>0</td>\n",
       "      <td>0</td>\n",
       "      <td>240276</td>\n",
       "      <td>9.6875</td>\n",
       "      <td>Q</td>\n",
       "      <td>1</td>\n",
       "      <td>0</td>\n",
       "      <td>1</td>\n",
       "      <td>1</td>\n",
       "      <td>0</td>\n",
       "    </tr>\n",
       "    <tr>\n",
       "      <th>3</th>\n",
       "      <td>895</td>\n",
       "      <td>3</td>\n",
       "      <td>Wirz, Mr. Albert</td>\n",
       "      <td>male</td>\n",
       "      <td>27.0</td>\n",
       "      <td>0</td>\n",
       "      <td>0</td>\n",
       "      <td>315154</td>\n",
       "      <td>8.6625</td>\n",
       "      <td>S</td>\n",
       "      <td>0</td>\n",
       "      <td>1</td>\n",
       "      <td>1</td>\n",
       "      <td>0</td>\n",
       "      <td>1</td>\n",
       "    </tr>\n",
       "    <tr>\n",
       "      <th>4</th>\n",
       "      <td>896</td>\n",
       "      <td>3</td>\n",
       "      <td>Hirvonen, Mrs. Alexander (Helga E Lindqvist)</td>\n",
       "      <td>female</td>\n",
       "      <td>22.0</td>\n",
       "      <td>1</td>\n",
       "      <td>1</td>\n",
       "      <td>3101298</td>\n",
       "      <td>12.2875</td>\n",
       "      <td>S</td>\n",
       "      <td>0</td>\n",
       "      <td>1</td>\n",
       "      <td>0</td>\n",
       "      <td>0</td>\n",
       "      <td>1</td>\n",
       "    </tr>\n",
       "  </tbody>\n",
       "</table>\n",
       "</div>"
      ],
      "text/plain": [
       "   PassengerId  Pclass                                          Name     Sex  \\\n",
       "0          892       3                              Kelly, Mr. James    male   \n",
       "1          893       3              Wilkes, Mrs. James (Ellen Needs)  female   \n",
       "2          894       2                     Myles, Mr. Thomas Francis    male   \n",
       "3          895       3                              Wirz, Mr. Albert    male   \n",
       "4          896       3  Hirvonen, Mrs. Alexander (Helga E Lindqvist)  female   \n",
       "\n",
       "    Age  SibSp  Parch   Ticket     Fare Embarked  2  3  male  Q  S  \n",
       "0  34.5      0      0   330911   7.8292        Q  0  1     1  1  0  \n",
       "1  47.0      1      0   363272   7.0000        S  0  1     0  0  1  \n",
       "2  62.0      0      0   240276   9.6875        Q  1  0     1  1  0  \n",
       "3  27.0      0      0   315154   8.6625        S  0  1     1  0  1  \n",
       "4  22.0      1      1  3101298  12.2875        S  0  1     0  0  1  "
      ]
     },
     "execution_count": 34,
     "metadata": {},
     "output_type": "execute_result"
    }
   ],
   "source": [
    "test_data = pd.concat([test_data, pclass1, sex1, embark1], axis = 1)\n",
    "test_data.head()"
   ]
  },
  {
   "cell_type": "code",
   "execution_count": 35,
   "id": "2544908a",
   "metadata": {
    "execution": {
     "iopub.execute_input": "2021-08-11T13:20:29.998431Z",
     "iopub.status.busy": "2021-08-11T13:20:29.997727Z",
     "iopub.status.idle": "2021-08-11T13:20:30.004971Z",
     "shell.execute_reply": "2021-08-11T13:20:30.004356Z",
     "shell.execute_reply.started": "2021-08-11T13:19:53.341649Z"
    },
    "papermill": {
     "duration": 0.06647,
     "end_time": "2021-08-11T13:20:30.005139",
     "exception": false,
     "start_time": "2021-08-11T13:20:29.938669",
     "status": "completed"
    },
    "tags": []
   },
   "outputs": [],
   "source": [
    "\n",
    "test_data.drop(['PassengerId', 'Pclass', 'Sex', 'Name', 'Ticket', 'Embarked'], axis = 1, inplace = True)"
   ]
  },
  {
   "cell_type": "code",
   "execution_count": 36,
   "id": "2884d4e3",
   "metadata": {
    "execution": {
     "iopub.execute_input": "2021-08-11T13:20:30.123714Z",
     "iopub.status.busy": "2021-08-11T13:20:30.123031Z",
     "iopub.status.idle": "2021-08-11T13:20:30.139560Z",
     "shell.execute_reply": "2021-08-11T13:20:30.140117Z",
     "shell.execute_reply.started": "2021-08-11T13:19:53.349377Z"
    },
    "papermill": {
     "duration": 0.077401,
     "end_time": "2021-08-11T13:20:30.140322",
     "exception": false,
     "start_time": "2021-08-11T13:20:30.062921",
     "status": "completed"
    },
    "tags": []
   },
   "outputs": [
    {
     "data": {
      "text/html": [
       "<div>\n",
       "<style scoped>\n",
       "    .dataframe tbody tr th:only-of-type {\n",
       "        vertical-align: middle;\n",
       "    }\n",
       "\n",
       "    .dataframe tbody tr th {\n",
       "        vertical-align: top;\n",
       "    }\n",
       "\n",
       "    .dataframe thead th {\n",
       "        text-align: right;\n",
       "    }\n",
       "</style>\n",
       "<table border=\"1\" class=\"dataframe\">\n",
       "  <thead>\n",
       "    <tr style=\"text-align: right;\">\n",
       "      <th></th>\n",
       "      <th>PassengerId</th>\n",
       "      <th>Pclass</th>\n",
       "      <th>Name</th>\n",
       "      <th>Sex</th>\n",
       "      <th>Age</th>\n",
       "      <th>SibSp</th>\n",
       "      <th>Parch</th>\n",
       "      <th>Ticket</th>\n",
       "      <th>Fare</th>\n",
       "      <th>Embarked</th>\n",
       "    </tr>\n",
       "  </thead>\n",
       "  <tbody>\n",
       "    <tr>\n",
       "      <th>0</th>\n",
       "      <td>892</td>\n",
       "      <td>3</td>\n",
       "      <td>Kelly, Mr. James</td>\n",
       "      <td>male</td>\n",
       "      <td>34.5</td>\n",
       "      <td>0</td>\n",
       "      <td>0</td>\n",
       "      <td>330911</td>\n",
       "      <td>7.8292</td>\n",
       "      <td>Q</td>\n",
       "    </tr>\n",
       "    <tr>\n",
       "      <th>1</th>\n",
       "      <td>893</td>\n",
       "      <td>3</td>\n",
       "      <td>Wilkes, Mrs. James (Ellen Needs)</td>\n",
       "      <td>female</td>\n",
       "      <td>47.0</td>\n",
       "      <td>1</td>\n",
       "      <td>0</td>\n",
       "      <td>363272</td>\n",
       "      <td>7.0000</td>\n",
       "      <td>S</td>\n",
       "    </tr>\n",
       "    <tr>\n",
       "      <th>2</th>\n",
       "      <td>894</td>\n",
       "      <td>2</td>\n",
       "      <td>Myles, Mr. Thomas Francis</td>\n",
       "      <td>male</td>\n",
       "      <td>62.0</td>\n",
       "      <td>0</td>\n",
       "      <td>0</td>\n",
       "      <td>240276</td>\n",
       "      <td>9.6875</td>\n",
       "      <td>Q</td>\n",
       "    </tr>\n",
       "    <tr>\n",
       "      <th>3</th>\n",
       "      <td>895</td>\n",
       "      <td>3</td>\n",
       "      <td>Wirz, Mr. Albert</td>\n",
       "      <td>male</td>\n",
       "      <td>27.0</td>\n",
       "      <td>0</td>\n",
       "      <td>0</td>\n",
       "      <td>315154</td>\n",
       "      <td>8.6625</td>\n",
       "      <td>S</td>\n",
       "    </tr>\n",
       "    <tr>\n",
       "      <th>4</th>\n",
       "      <td>896</td>\n",
       "      <td>3</td>\n",
       "      <td>Hirvonen, Mrs. Alexander (Helga E Lindqvist)</td>\n",
       "      <td>female</td>\n",
       "      <td>22.0</td>\n",
       "      <td>1</td>\n",
       "      <td>1</td>\n",
       "      <td>3101298</td>\n",
       "      <td>12.2875</td>\n",
       "      <td>S</td>\n",
       "    </tr>\n",
       "  </tbody>\n",
       "</table>\n",
       "</div>"
      ],
      "text/plain": [
       "   PassengerId  Pclass                                          Name     Sex  \\\n",
       "0          892       3                              Kelly, Mr. James    male   \n",
       "1          893       3              Wilkes, Mrs. James (Ellen Needs)  female   \n",
       "2          894       2                     Myles, Mr. Thomas Francis    male   \n",
       "3          895       3                              Wirz, Mr. Albert    male   \n",
       "4          896       3  Hirvonen, Mrs. Alexander (Helga E Lindqvist)  female   \n",
       "\n",
       "    Age  SibSp  Parch   Ticket     Fare Embarked  \n",
       "0  34.5      0      0   330911   7.8292        Q  \n",
       "1  47.0      1      0   363272   7.0000        S  \n",
       "2  62.0      0      0   240276   9.6875        Q  \n",
       "3  27.0      0      0   315154   8.6625        S  \n",
       "4  22.0      1      1  3101298  12.2875        S  "
      ]
     },
     "execution_count": 36,
     "metadata": {},
     "output_type": "execute_result"
    }
   ],
   "source": [
    "test_data1.head()"
   ]
  },
  {
   "cell_type": "code",
   "execution_count": 37,
   "id": "be3824d0",
   "metadata": {
    "execution": {
     "iopub.execute_input": "2021-08-11T13:20:30.260678Z",
     "iopub.status.busy": "2021-08-11T13:20:30.259562Z",
     "iopub.status.idle": "2021-08-11T13:20:30.263199Z",
     "shell.execute_reply": "2021-08-11T13:20:30.262595Z",
     "shell.execute_reply.started": "2021-08-11T13:19:53.372601Z"
    },
    "papermill": {
     "duration": 0.066451,
     "end_time": "2021-08-11T13:20:30.263375",
     "exception": false,
     "start_time": "2021-08-11T13:20:30.196924",
     "status": "completed"
    },
    "tags": []
   },
   "outputs": [],
   "source": [
    "X_test = test_data"
   ]
  },
  {
   "cell_type": "markdown",
   "id": "2282c13e",
   "metadata": {
    "papermill": {
     "duration": 0.060327,
     "end_time": "2021-08-11T13:20:30.384987",
     "exception": false,
     "start_time": "2021-08-11T13:20:30.324660",
     "status": "completed"
    },
    "tags": []
   },
   "source": [
    "## Building our Logistic Regression model."
   ]
  },
  {
   "cell_type": "code",
   "execution_count": 38,
   "id": "ad9c706e",
   "metadata": {
    "execution": {
     "iopub.execute_input": "2021-08-11T13:20:30.506503Z",
     "iopub.status.busy": "2021-08-11T13:20:30.505804Z",
     "iopub.status.idle": "2021-08-11T13:20:30.904618Z",
     "shell.execute_reply": "2021-08-11T13:20:30.903928Z",
     "shell.execute_reply.started": "2021-08-11T13:19:53.377871Z"
    },
    "papermill": {
     "duration": 0.460341,
     "end_time": "2021-08-11T13:20:30.904775",
     "exception": false,
     "start_time": "2021-08-11T13:20:30.444434",
     "status": "completed"
    },
    "tags": []
   },
   "outputs": [],
   "source": [
    "from sklearn.linear_model import LogisticRegression"
   ]
  },
  {
   "cell_type": "code",
   "execution_count": 39,
   "id": "cc6ef446",
   "metadata": {
    "execution": {
     "iopub.execute_input": "2021-08-11T13:20:31.028667Z",
     "iopub.status.busy": "2021-08-11T13:20:31.027971Z",
     "iopub.status.idle": "2021-08-11T13:20:31.031229Z",
     "shell.execute_reply": "2021-08-11T13:20:31.030622Z",
     "shell.execute_reply.started": "2021-08-11T13:19:53.389415Z"
    },
    "papermill": {
     "duration": 0.068034,
     "end_time": "2021-08-11T13:20:31.031384",
     "exception": false,
     "start_time": "2021-08-11T13:20:30.963350",
     "status": "completed"
    },
    "tags": []
   },
   "outputs": [],
   "source": [
    "model = LogisticRegression(solver='liblinear')"
   ]
  },
  {
   "cell_type": "code",
   "execution_count": 40,
   "id": "655709cc",
   "metadata": {
    "execution": {
     "iopub.execute_input": "2021-08-11T13:20:31.156764Z",
     "iopub.status.busy": "2021-08-11T13:20:31.155963Z",
     "iopub.status.idle": "2021-08-11T13:20:31.304151Z",
     "shell.execute_reply": "2021-08-11T13:20:31.303489Z",
     "shell.execute_reply.started": "2021-08-11T13:19:53.401948Z"
    },
    "papermill": {
     "duration": 0.214324,
     "end_time": "2021-08-11T13:20:31.304337",
     "exception": false,
     "start_time": "2021-08-11T13:20:31.090013",
     "status": "completed"
    },
    "tags": []
   },
   "outputs": [
    {
     "data": {
      "text/plain": [
       "LogisticRegression(solver='liblinear')"
      ]
     },
     "execution_count": 40,
     "metadata": {},
     "output_type": "execute_result"
    }
   ],
   "source": [
    "model.fit(X_train, y_train)"
   ]
  },
  {
   "cell_type": "code",
   "execution_count": 41,
   "id": "95c2e3dc",
   "metadata": {
    "execution": {
     "iopub.execute_input": "2021-08-11T13:20:31.429741Z",
     "iopub.status.busy": "2021-08-11T13:20:31.429056Z",
     "iopub.status.idle": "2021-08-11T13:20:31.431844Z",
     "shell.execute_reply": "2021-08-11T13:20:31.431249Z",
     "shell.execute_reply.started": "2021-08-11T13:19:53.422669Z"
    },
    "papermill": {
     "duration": 0.068286,
     "end_time": "2021-08-11T13:20:31.431988",
     "exception": false,
     "start_time": "2021-08-11T13:20:31.363702",
     "status": "completed"
    },
    "tags": []
   },
   "outputs": [],
   "source": [
    "predictions = model.predict(X_test)"
   ]
  },
  {
   "cell_type": "code",
   "execution_count": 42,
   "id": "d681696d",
   "metadata": {
    "execution": {
     "iopub.execute_input": "2021-08-11T13:20:31.552732Z",
     "iopub.status.busy": "2021-08-11T13:20:31.552063Z",
     "iopub.status.idle": "2021-08-11T13:20:31.561386Z",
     "shell.execute_reply": "2021-08-11T13:20:31.560815Z",
     "shell.execute_reply.started": "2021-08-11T13:19:53.433820Z"
    },
    "papermill": {
     "duration": 0.072277,
     "end_time": "2021-08-11T13:20:31.561537",
     "exception": false,
     "start_time": "2021-08-11T13:20:31.489260",
     "status": "completed"
    },
    "tags": []
   },
   "outputs": [
    {
     "name": "stdout",
     "output_type": "stream",
     "text": [
      "Your submission was successfully saved!\n"
     ]
    }
   ],
   "source": [
    "output = pd.DataFrame({'PassengerId': test_data1.PassengerId, 'Survived': predictions})\n",
    "output.to_csv('my_submission.csv', index=False)\n",
    "print(\"Your submission was successfully saved!\")"
   ]
  },
  {
   "cell_type": "code",
   "execution_count": null,
   "id": "91c8c6c0",
   "metadata": {
    "papermill": {
     "duration": 0.066784,
     "end_time": "2021-08-11T13:20:31.690360",
     "exception": false,
     "start_time": "2021-08-11T13:20:31.623576",
     "status": "completed"
    },
    "tags": []
   },
   "outputs": [],
   "source": []
  }
 ],
 "metadata": {
  "kernelspec": {
   "display_name": "Python 3",
   "language": "python",
   "name": "python3"
  },
  "language_info": {
   "codemirror_mode": {
    "name": "ipython",
    "version": 3
   },
   "file_extension": ".py",
   "mimetype": "text/x-python",
   "name": "python",
   "nbconvert_exporter": "python",
   "pygments_lexer": "ipython3",
   "version": "3.7.10"
  },
  "papermill": {
   "default_parameters": {},
   "duration": 21.045317,
   "end_time": "2021-08-11T13:20:33.006383",
   "environment_variables": {},
   "exception": null,
   "input_path": "__notebook__.ipynb",
   "output_path": "__notebook__.ipynb",
   "parameters": {},
   "start_time": "2021-08-11T13:20:11.961066",
   "version": "2.3.3"
  }
 },
 "nbformat": 4,
 "nbformat_minor": 5
}
